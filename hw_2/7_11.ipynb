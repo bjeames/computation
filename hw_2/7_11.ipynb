{
 "cells": [
  {
   "cell_type": "code",
   "execution_count": 2,
   "id": "9c959f6e",
   "metadata": {},
   "outputs": [
    {
     "data": {
      "text/plain": [
       "23933.610496468293"
      ]
     },
     "execution_count": 2,
     "metadata": {},
     "output_type": "execute_result"
    }
   ],
   "source": [
    "principal = 20000\n",
    "apr = 0.06\n",
    "years = 3\n",
    "interest_freq = 12\n",
    "\n",
    "ending_balance = principal * (1 + apr/interest_freq)**(years*interest_freq)\n",
    "ending_balance"
   ]
  },
  {
   "cell_type": "code",
   "execution_count": null,
   "id": "b632e05c",
   "metadata": {},
   "outputs": [
    {
     "data": {
      "text/plain": [
       "[1, 2]"
      ]
     },
     "execution_count": 6,
     "metadata": {},
     "output_type": "execute_result"
    }
   ],
   "source": [
    "nums = [1, 1, 2]\n",
    "\n",
    "for i in range(len(nums)):\n",
    "    if i == len(nums) - 1:\n",
    "        break\n",
    "    if nums[i] == nums[i+1]:\n",
    "        del nums[i]\n",
    "\n",
    "# my_set = set(nums)\n",
    "\n",
    "# my_list = list(my_set)\n",
    "\n",
    "# my_list\n",
    "nums"
   ]
  },
  {
   "cell_type": "code",
   "execution_count": null,
   "id": "41deb0ef",
   "metadata": {},
   "outputs": [],
   "source": []
  }
 ],
 "metadata": {
  "kernelspec": {
   "display_name": "hw3_venv",
   "language": "python",
   "name": "python3"
  },
  "language_info": {
   "codemirror_mode": {
    "name": "ipython",
    "version": 3
   },
   "file_extension": ".py",
   "mimetype": "text/x-python",
   "name": "python",
   "nbconvert_exporter": "python",
   "pygments_lexer": "ipython3",
   "version": "3.13.1"
  }
 },
 "nbformat": 4,
 "nbformat_minor": 5
}
